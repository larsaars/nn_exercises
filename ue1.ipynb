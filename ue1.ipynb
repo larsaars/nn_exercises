{
 "cells": [
  {
   "cell_type": "code",
   "execution_count": 1,
   "id": "7583a38c-e841-4a37-89e5-ce549d728245",
   "metadata": {},
   "outputs": [],
   "source": [
    "import matplotlib.pyplot as plt"
   ]
  },
  {
   "cell_type": "code",
   "execution_count": null,
   "id": "51b34c00-2c35-4fea-bc51-53477d39d87a",
   "metadata": {},
   "outputs": [],
   "source": [
    "# task 2"
   ]
  }
 ],
 "metadata": {
  "kernelspec": {
   "display_name": "Python 3 (ipykernel)",
   "language": "python",
   "name": "python3"
  },
  "language_info": {
   "codemirror_mode": {
    "name": "ipython",
    "version": 3
   },
   "file_extension": ".py",
   "mimetype": "text/x-python",
   "name": "python",
   "nbconvert_exporter": "python",
   "pygments_lexer": "ipython3",
   "version": "3.8.10"
  }
 },
 "nbformat": 4,
 "nbformat_minor": 5
}
